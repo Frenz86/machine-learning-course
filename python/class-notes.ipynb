{
  "nbformat": 4,
  "nbformat_minor": 0,
  "metadata": {
    "colab": {
      "name": "Class-27-11-2020.ipynb",
      "provenance": [],
      "collapsed_sections": [],
      "include_colab_link": true
    },
    "kernelspec": {
      "name": "python3",
      "display_name": "Python 3"
    }
  },
  "cells": [
    {
      "cell_type": "markdown",
      "metadata": {
        "id": "view-in-github",
        "colab_type": "text"
      },
      "source": [
        "<a href=\"https://colab.research.google.com/github/visiont3lab/machine-learning-course/blob/main/python/Class_27_11_2020.ipynb\" target=\"_parent\"><img src=\"https://colab.research.google.com/assets/colab-badge.svg\" alt=\"Open In Colab\"/></a>"
      ]
    },
    {
      "cell_type": "code",
      "metadata": {
        "id": "BeV3706ZzF_1"
      },
      "source": [
        "import pandas as pd\n",
        "import numpy as np\n",
        "from sklearn.decomposition import *\n",
        "#fdfsd\n",
        "def mytest():\n",
        "    d = {'col1': [1, 2], 'col2': [3, 4]}\n",
        "    df = ptest.DataFrame(data=d)\n",
        "    return df\n",
        "\n",
        "def mytest_2():\n",
        "    d = {'col1': [1, 2], 'col2': [3, 4]}\n",
        "    df = ptest.DataFrame(data=d)\n",
        "    return df"
      ],
      "execution_count": null,
      "outputs": []
    },
    {
      "cell_type": "code",
      "metadata": {
        "colab": {
          "base_uri": "https://localhost:8080/",
          "height": 108
        },
        "id": "Tpz7wmy-1VrY",
        "outputId": "79bd9876-6b78-49aa-d539-e1c8c95feebb"
      },
      "source": [
        "from mylib import *\n",
        "mytest_2()"
      ],
      "execution_count": null,
      "outputs": [
        {
          "output_type": "execute_result",
          "data": {
            "text/html": [
              "<div>\n",
              "<style scoped>\n",
              "    .dataframe tbody tr th:only-of-type {\n",
              "        vertical-align: middle;\n",
              "    }\n",
              "\n",
              "    .dataframe tbody tr th {\n",
              "        vertical-align: top;\n",
              "    }\n",
              "\n",
              "    .dataframe thead th {\n",
              "        text-align: right;\n",
              "    }\n",
              "</style>\n",
              "<table border=\"1\" class=\"dataframe\">\n",
              "  <thead>\n",
              "    <tr style=\"text-align: right;\">\n",
              "      <th></th>\n",
              "      <th>col1</th>\n",
              "      <th>col2</th>\n",
              "    </tr>\n",
              "  </thead>\n",
              "  <tbody>\n",
              "    <tr>\n",
              "      <th>0</th>\n",
              "      <td>1</td>\n",
              "      <td>3</td>\n",
              "    </tr>\n",
              "    <tr>\n",
              "      <th>1</th>\n",
              "      <td>2</td>\n",
              "      <td>4</td>\n",
              "    </tr>\n",
              "  </tbody>\n",
              "</table>\n",
              "</div>"
            ],
            "text/plain": [
              "   col1  col2\n",
              "0     1     3\n",
              "1     2     4"
            ]
          },
          "metadata": {
            "tags": []
          },
          "execution_count": 47
        }
      ]
    },
    {
      "cell_type": "code",
      "metadata": {
        "id": "THxGSrW15B0d"
      },
      "source": [
        "bash"
      ],
      "execution_count": null,
      "outputs": []
    },
    {
      "cell_type": "code",
      "metadata": {
        "id": "GutALAvB1pi6"
      },
      "source": [
        "!mkdir manuel"
      ],
      "execution_count": null,
      "outputs": []
    },
    {
      "cell_type": "code",
      "metadata": {
        "id": "B4mRbD0lyPFB"
      },
      "source": [
        "!cp mylib.py manuel/"
      ],
      "execution_count": null,
      "outputs": []
    },
    {
      "cell_type": "code",
      "metadata": {
        "id": "ZeKH_C0F4wdz"
      },
      "source": [
        "!rm mylib.py"
      ],
      "execution_count": null,
      "outputs": []
    },
    {
      "cell_type": "code",
      "metadata": {
        "id": "ztoej2zzwBqX"
      },
      "source": [
        "#df = pandas.DataFrame({\"ciao\": [1,3,4], \"hello\" : [2,3,4]})\n",
        "\n",
        "'''\n",
        "ciao come stati\n",
        "a = 4\n",
        "'''\n",
        "\n",
        "a = 4\n",
        "\n",
        "print(b+a)\n",
        "b = 6\n",
        "\n",
        "print(b)"
      ],
      "execution_count": null,
      "outputs": []
    },
    {
      "cell_type": "code",
      "metadata": {
        "colab": {
          "base_uri": "https://localhost:8080/"
        },
        "id": "vqLfMzX76c_V",
        "outputId": "608fd202-a56a-4164-bf66-717cbed2a4c2"
      },
      "source": [
        "!pip uninstall pandas \n",
        "!pip install pandas==1.1.2 \n",
        "!pip search pandas \n",
        "!pip list | grep pandas\n",
        "!pip freeze > requirements.txt"
      ],
      "execution_count": null,
      "outputs": [
        {
          "output_type": "stream",
          "text": [
            "\u001b[33mWARNING: Skipping pandas as it is not installed.\u001b[0m\n"
          ],
          "name": "stdout"
        }
      ]
    },
    {
      "cell_type": "code",
      "metadata": {
        "id": "EdkYlPhJBWt8"
      },
      "source": [
        "# --> import \n",
        "# --> multiplicazione\n",
        "# --> def"
      ],
      "execution_count": null,
      "outputs": []
    },
    {
      "cell_type": "code",
      "metadata": {
        "colab": {
          "base_uri": "https://localhost:8080/"
        },
        "id": "86vvcYGnBw7E",
        "outputId": "d8d8fe44-28d4-4480-d7ce-25892a650067"
      },
      "source": [
        "!pip install requests "
      ],
      "execution_count": null,
      "outputs": [
        {
          "output_type": "stream",
          "text": [
            "Requirement already satisfied: requests in /usr/local/lib/python3.6/dist-packages (2.23.0)\n",
            "Requirement already satisfied: idna<3,>=2.5 in /usr/local/lib/python3.6/dist-packages (from requests) (2.10)\n",
            "Requirement already satisfied: urllib3!=1.25.0,!=1.25.1,<1.26,>=1.21.1 in /usr/local/lib/python3.6/dist-packages (from requests) (1.24.3)\n",
            "Requirement already satisfied: certifi>=2017.4.17 in /usr/local/lib/python3.6/dist-packages (from requests) (2020.11.8)\n",
            "Requirement already satisfied: chardet<4,>=3.0.2 in /usr/local/lib/python3.6/dist-packages (from requests) (3.0.4)\n"
          ],
          "name": "stdout"
        }
      ]
    },
    {
      "cell_type": "code",
      "metadata": {
        "id": "b98mJyxUCGLL"
      },
      "source": [
        "import requests\n",
        "def requestHttp(url='https://www.google.it/'):\n",
        "    r =requests.get(url)\n",
        "    return r.text\n",
        "print(requestHttp())"
      ],
      "execution_count": null,
      "outputs": []
    },
    {
      "cell_type": "code",
      "metadata": {
        "colab": {
          "base_uri": "https://localhost:8080/"
        },
        "id": "kH4h1PioEZdy",
        "outputId": "c9df4d57-13ce-414a-9094-e9e7b35e72fb"
      },
      "source": [
        "!pip install selenium"
      ],
      "execution_count": null,
      "outputs": [
        {
          "output_type": "stream",
          "text": [
            "Collecting selenium\n",
            "\u001b[?25l  Downloading https://files.pythonhosted.org/packages/80/d6/4294f0b4bce4de0abf13e17190289f9d0613b0a44e5dd6a7f5ca98459853/selenium-3.141.0-py2.py3-none-any.whl (904kB)\n",
            "\r\u001b[K     |▍                               | 10kB 12.8MB/s eta 0:00:01\r\u001b[K     |▊                               | 20kB 11.2MB/s eta 0:00:01\r\u001b[K     |█                               | 30kB 8.8MB/s eta 0:00:01\r\u001b[K     |█▌                              | 40kB 7.6MB/s eta 0:00:01\r\u001b[K     |█▉                              | 51kB 4.4MB/s eta 0:00:01\r\u001b[K     |██▏                             | 61kB 5.0MB/s eta 0:00:01\r\u001b[K     |██▌                             | 71kB 5.1MB/s eta 0:00:01\r\u001b[K     |███                             | 81kB 5.4MB/s eta 0:00:01\r\u001b[K     |███▎                            | 92kB 5.2MB/s eta 0:00:01\r\u001b[K     |███▋                            | 102kB 5.6MB/s eta 0:00:01\r\u001b[K     |████                            | 112kB 5.6MB/s eta 0:00:01\r\u001b[K     |████▍                           | 122kB 5.6MB/s eta 0:00:01\r\u001b[K     |████▊                           | 133kB 5.6MB/s eta 0:00:01\r\u001b[K     |█████                           | 143kB 5.6MB/s eta 0:00:01\r\u001b[K     |█████▍                          | 153kB 5.6MB/s eta 0:00:01\r\u001b[K     |█████▉                          | 163kB 5.6MB/s eta 0:00:01\r\u001b[K     |██████▏                         | 174kB 5.6MB/s eta 0:00:01\r\u001b[K     |██████▌                         | 184kB 5.6MB/s eta 0:00:01\r\u001b[K     |██████▉                         | 194kB 5.6MB/s eta 0:00:01\r\u001b[K     |███████▎                        | 204kB 5.6MB/s eta 0:00:01\r\u001b[K     |███████▋                        | 215kB 5.6MB/s eta 0:00:01\r\u001b[K     |████████                        | 225kB 5.6MB/s eta 0:00:01\r\u001b[K     |████████▎                       | 235kB 5.6MB/s eta 0:00:01\r\u001b[K     |████████▊                       | 245kB 5.6MB/s eta 0:00:01\r\u001b[K     |█████████                       | 256kB 5.6MB/s eta 0:00:01\r\u001b[K     |█████████▍                      | 266kB 5.6MB/s eta 0:00:01\r\u001b[K     |█████████▉                      | 276kB 5.6MB/s eta 0:00:01\r\u001b[K     |██████████▏                     | 286kB 5.6MB/s eta 0:00:01\r\u001b[K     |██████████▌                     | 296kB 5.6MB/s eta 0:00:01\r\u001b[K     |██████████▉                     | 307kB 5.6MB/s eta 0:00:01\r\u001b[K     |███████████▎                    | 317kB 5.6MB/s eta 0:00:01\r\u001b[K     |███████████▋                    | 327kB 5.6MB/s eta 0:00:01\r\u001b[K     |████████████                    | 337kB 5.6MB/s eta 0:00:01\r\u001b[K     |████████████▎                   | 348kB 5.6MB/s eta 0:00:01\r\u001b[K     |████████████▊                   | 358kB 5.6MB/s eta 0:00:01\r\u001b[K     |█████████████                   | 368kB 5.6MB/s eta 0:00:01\r\u001b[K     |█████████████▍                  | 378kB 5.6MB/s eta 0:00:01\r\u001b[K     |█████████████▊                  | 389kB 5.6MB/s eta 0:00:01\r\u001b[K     |██████████████▏                 | 399kB 5.6MB/s eta 0:00:01\r\u001b[K     |██████████████▌                 | 409kB 5.6MB/s eta 0:00:01\r\u001b[K     |██████████████▉                 | 419kB 5.6MB/s eta 0:00:01\r\u001b[K     |███████████████▏                | 430kB 5.6MB/s eta 0:00:01\r\u001b[K     |███████████████▋                | 440kB 5.6MB/s eta 0:00:01\r\u001b[K     |████████████████                | 450kB 5.6MB/s eta 0:00:01\r\u001b[K     |████████████████▎               | 460kB 5.6MB/s eta 0:00:01\r\u001b[K     |████████████████▋               | 471kB 5.6MB/s eta 0:00:01\r\u001b[K     |█████████████████               | 481kB 5.6MB/s eta 0:00:01\r\u001b[K     |█████████████████▍              | 491kB 5.6MB/s eta 0:00:01\r\u001b[K     |█████████████████▊              | 501kB 5.6MB/s eta 0:00:01\r\u001b[K     |██████████████████▏             | 512kB 5.6MB/s eta 0:00:01\r\u001b[K     |██████████████████▌             | 522kB 5.6MB/s eta 0:00:01\r\u001b[K     |██████████████████▉             | 532kB 5.6MB/s eta 0:00:01\r\u001b[K     |███████████████████▏            | 542kB 5.6MB/s eta 0:00:01\r\u001b[K     |███████████████████▋            | 552kB 5.6MB/s eta 0:00:01\r\u001b[K     |████████████████████            | 563kB 5.6MB/s eta 0:00:01\r\u001b[K     |████████████████████▎           | 573kB 5.6MB/s eta 0:00:01\r\u001b[K     |████████████████████▋           | 583kB 5.6MB/s eta 0:00:01\r\u001b[K     |█████████████████████           | 593kB 5.6MB/s eta 0:00:01\r\u001b[K     |█████████████████████▍          | 604kB 5.6MB/s eta 0:00:01\r\u001b[K     |█████████████████████▊          | 614kB 5.6MB/s eta 0:00:01\r\u001b[K     |██████████████████████          | 624kB 5.6MB/s eta 0:00:01\r\u001b[K     |██████████████████████▌         | 634kB 5.6MB/s eta 0:00:01\r\u001b[K     |██████████████████████▉         | 645kB 5.6MB/s eta 0:00:01\r\u001b[K     |███████████████████████▏        | 655kB 5.6MB/s eta 0:00:01\r\u001b[K     |███████████████████████▌        | 665kB 5.6MB/s eta 0:00:01\r\u001b[K     |████████████████████████        | 675kB 5.6MB/s eta 0:00:01\r\u001b[K     |████████████████████████▎       | 686kB 5.6MB/s eta 0:00:01\r\u001b[K     |████████████████████████▋       | 696kB 5.6MB/s eta 0:00:01\r\u001b[K     |█████████████████████████       | 706kB 5.6MB/s eta 0:00:01\r\u001b[K     |█████████████████████████▍      | 716kB 5.6MB/s eta 0:00:01\r\u001b[K     |█████████████████████████▊      | 727kB 5.6MB/s eta 0:00:01\r\u001b[K     |██████████████████████████      | 737kB 5.6MB/s eta 0:00:01\r\u001b[K     |██████████████████████████▍     | 747kB 5.6MB/s eta 0:00:01\r\u001b[K     |██████████████████████████▉     | 757kB 5.6MB/s eta 0:00:01\r\u001b[K     |███████████████████████████▏    | 768kB 5.6MB/s eta 0:00:01\r\u001b[K     |███████████████████████████▌    | 778kB 5.6MB/s eta 0:00:01\r\u001b[K     |████████████████████████████    | 788kB 5.6MB/s eta 0:00:01\r\u001b[K     |████████████████████████████▎   | 798kB 5.6MB/s eta 0:00:01\r\u001b[K     |████████████████████████████▋   | 808kB 5.6MB/s eta 0:00:01\r\u001b[K     |█████████████████████████████   | 819kB 5.6MB/s eta 0:00:01\r\u001b[K     |█████████████████████████████▍  | 829kB 5.6MB/s eta 0:00:01\r\u001b[K     |█████████████████████████████▊  | 839kB 5.6MB/s eta 0:00:01\r\u001b[K     |██████████████████████████████  | 849kB 5.6MB/s eta 0:00:01\r\u001b[K     |██████████████████████████████▍ | 860kB 5.6MB/s eta 0:00:01\r\u001b[K     |██████████████████████████████▉ | 870kB 5.6MB/s eta 0:00:01\r\u001b[K     |███████████████████████████████▏| 880kB 5.6MB/s eta 0:00:01\r\u001b[K     |███████████████████████████████▌| 890kB 5.6MB/s eta 0:00:01\r\u001b[K     |███████████████████████████████▉| 901kB 5.6MB/s eta 0:00:01\r\u001b[K     |████████████████████████████████| 911kB 5.6MB/s \n",
            "\u001b[?25hRequirement already satisfied: urllib3 in /usr/local/lib/python3.6/dist-packages (from selenium) (1.24.3)\n",
            "Installing collected packages: selenium\n",
            "Successfully installed selenium-3.141.0\n"
          ],
          "name": "stdout"
        }
      ]
    },
    {
      "cell_type": "code",
      "metadata": {
        "colab": {
          "base_uri": "https://localhost:8080/"
        },
        "id": "eZ9qxTkB6ws1",
        "outputId": "098d1818-815d-440a-d4b4-f8619ceb8ee5"
      },
      "source": [
        "# Funzioni\n",
        "def my_sum(inp1,inp2=10,inp3=15):\n",
        "    c = inp1+inp2\n",
        "    print(c)\n",
        "\n",
        "def my_sum1(inp1,inp2=10,inp3=15):\n",
        "    sum = inp1+inp2\n",
        "    mult = inp1*inp2\n",
        "    t = sum + inp1\n",
        "    return sum,mult,t\n",
        "\n",
        "def my_sum2(inp1,inp2=10,inp3=15):\n",
        "    c = inp1+inp2\n",
        "    return c\n",
        "\n",
        "#suym, myult,ty = my_sum1(8)\n",
        "val = 15\n",
        "print(val)\n",
        "a,b,_ = (val,5,6)\n",
        "print(a)\n",
        "\n"
      ],
      "execution_count": null,
      "outputs": [
        {
          "output_type": "stream",
          "text": [
            "15\n",
            "15\n"
          ],
          "name": "stdout"
        }
      ]
    },
    {
      "cell_type": "code",
      "metadata": {
        "id": "J6QRpyuzJ2tP"
      },
      "source": [
        "# https://raw.githubusercontent.com/pcm-dpc/COVID-19/master/dati-andamento-nazionale/dpc-covid19-ita-andamento-nazionale.csv\n",
        "!wget https://raw.githubusercontent.com/pcm-dpc/COVID-19/master/dati-andamento-nazionale/dpc-covid19-ita-andamento-nazionale.csv"
      ],
      "execution_count": null,
      "outputs": []
    },
    {
      "cell_type": "code",
      "metadata": {
        "colab": {
          "base_uri": "https://localhost:8080/"
        },
        "id": "ixA7OSLvKLj2",
        "outputId": "e91e88fc-cc42-467f-de0c-d8b80ca046e4"
      },
      "source": [
        "!pip install pandas"
      ],
      "execution_count": null,
      "outputs": [
        {
          "output_type": "stream",
          "text": [
            "Requirement already satisfied: pandas in /usr/local/lib/python3.6/dist-packages (1.1.2)\n",
            "Requirement already satisfied: python-dateutil>=2.7.3 in /usr/local/lib/python3.6/dist-packages (from pandas) (2.8.1)\n",
            "Requirement already satisfied: numpy>=1.15.4 in /usr/local/lib/python3.6/dist-packages (from pandas) (1.18.5)\n",
            "Requirement already satisfied: pytz>=2017.2 in /usr/local/lib/python3.6/dist-packages (from pandas) (2018.9)\n",
            "Requirement already satisfied: six>=1.5 in /usr/local/lib/python3.6/dist-packages (from python-dateutil>=2.7.3->pandas) (1.15.0)\n"
          ],
          "name": "stdout"
        }
      ]
    },
    {
      "cell_type": "code",
      "metadata": {
        "id": "HauiISQUKRhk"
      },
      "source": [
        "import pandas as pd\n",
        "#%load_ext google.colab.data_table\n",
        "\n",
        "def get_deceduti_oggi():\n",
        "    df = pd.read_csv(\"dpc-covid19-ita-andamento-nazionale.csv\")\n",
        "    #num_deceduti = df.tail(1)[\"deceduti\"].values[0]\n",
        "    res = df.tail(1)[[\"data\",\"deceduti\",\"totale_casi\"]].values.tolist()[0]\n",
        "    data = res[0]\n",
        "    deceduti = res[1]\n",
        "    totale_casi = res[2]\n",
        "    return data,deceduti,totale_casi\n",
        "\n",
        "def print_dataset():\n",
        "    df = pd.read_csv(\"dpc-covid19-ita-andamento-nazionale.csv\")\n",
        "    display(df)\n",
        "\n",
        "print_dataset()\n",
        "data,deceduti,totale_casi = get_deceduti_oggi()\n",
        "print(\"Data %s ---- Numero deceduti: %s ---- Totale Casi: %s\" % (data,deceduti,totale_casi)) \n",
        "\n",
        "\n",
        "# Esercizio plottare l'andamento giornaliero\n",
        "# http://opendatadpc.maps.arcgis.com/apps/opsdashboard/index.html#/b0c68bce2cce478eaac82fe38d4138b1"
      ],
      "execution_count": null,
      "outputs": []
    },
    {
      "cell_type": "code",
      "metadata": {
        "colab": {
          "base_uri": "https://localhost:8080/"
        },
        "id": "Ii1RE6QvOYWZ",
        "outputId": "dd61bcf7-288f-43f3-9e41-2917041fbd44"
      },
      "source": [
        "df = pd.read_csv(\"dpc-covid19-ita-andamento-nazionale.csv\")\n",
        "res = df.tail(1)[[\"deceduti\",\"data\"]].values.tolist()[0]\n",
        "deceduti = res[0]\n",
        "data = res[1]\n",
        "print(deceduti,data)"
      ],
      "execution_count": null,
      "outputs": [
        {
          "output_type": "stream",
          "text": [
            "53677 2020-11-27T17:00:00\n"
          ],
          "name": "stdout"
        }
      ]
    },
    {
      "cell_type": "code",
      "metadata": {
        "colab": {
          "base_uri": "https://localhost:8080/"
        },
        "id": "dk-wkJP_L1H-",
        "outputId": "3cb63c72-0705-4c90-8b60-0bfa70e8f8ba"
      },
      "source": [
        "a = {\n",
        "    \"deceduti\" : [150,45],\n",
        "    \"data\" : [\"2020-11-10\",\"djkdsj\"],\n",
        "    \"test\" : [\"dsds-11-10\", \"ñs\"]\n",
        "}\n",
        "table = pd.DataFrame(a)\n",
        "table.values"
      ],
      "execution_count": null,
      "outputs": [
        {
          "output_type": "execute_result",
          "data": {
            "text/plain": [
              "array([[150, '2020-11-10', 'dsds-11-10'],\n",
              "       [45, 'djkdsj', 'ñs']], dtype=object)"
            ]
          },
          "metadata": {
            "tags": []
          },
          "execution_count": 157
        }
      ]
    },
    {
      "cell_type": "code",
      "metadata": {
        "colab": {
          "base_uri": "https://localhost:8080/",
          "height": 151
        },
        "id": "ToiYCaR_Q_fw",
        "outputId": "910abd12-ebb8-40b5-c56d-822362c696a7"
      },
      "source": [
        "import pandas as pd\n",
        "df = pd.DataFrame({\n",
        "    \"Name\": [\"Braund, Mr. Owen Harris\",\n",
        "                \"Allen, Mr. William Henry\",\n",
        "               \"Bonnell, Miss. Elizabeth\"],\n",
        "    \"Age\": [22, 35, 58],\n",
        "    \"Sex\": [\"male\", \"male\", \"female\"]}\n",
        "    )\n",
        "   \n",
        "df"
      ],
      "execution_count": null,
      "outputs": [
        {
          "output_type": "execute_result",
          "data": {
            "application/vnd.google.colaboratory.module+javascript": "\n      import \"https://ssl.gstatic.com/colaboratory/data_table/a6224c040fa35dcf/data_table.js\";\n\n      window.createDataTable({\n        data: [[{\n            'v': 0,\n            'f': \"0\",\n        },\n\"Braund, Mr. Owen Harris\",\n{\n            'v': 22,\n            'f': \"22\",\n        },\n\"male\"],\n [{\n            'v': 1,\n            'f': \"1\",\n        },\n\"Allen, Mr. William Henry\",\n{\n            'v': 35,\n            'f': \"35\",\n        },\n\"male\"],\n [{\n            'v': 2,\n            'f': \"2\",\n        },\n\"Bonnell, Miss. Elizabeth\",\n{\n            'v': 58,\n            'f': \"58\",\n        },\n\"female\"]],\n        columns: [[\"number\", \"index\"], [\"string\", \"Name\"], [\"number\", \"Age\"], [\"string\", \"Sex\"]],\n        columnOptions: [{\"width\": \"1px\", \"className\": \"index_column\"}],\n        rowsPerPage: 25,\n        helpUrl: \"https://colab.research.google.com/notebooks/data_table.ipynb\",\n        suppressOutputScrolling: true,\n        minimumWidth: undefined,\n      });\n    ",
            "text/html": [
              "<div>\n",
              "<style scoped>\n",
              "    .dataframe tbody tr th:only-of-type {\n",
              "        vertical-align: middle;\n",
              "    }\n",
              "\n",
              "    .dataframe tbody tr th {\n",
              "        vertical-align: top;\n",
              "    }\n",
              "\n",
              "    .dataframe thead th {\n",
              "        text-align: right;\n",
              "    }\n",
              "</style>\n",
              "<table border=\"1\" class=\"dataframe\">\n",
              "  <thead>\n",
              "    <tr style=\"text-align: right;\">\n",
              "      <th></th>\n",
              "      <th>Name</th>\n",
              "      <th>Age</th>\n",
              "      <th>Sex</th>\n",
              "    </tr>\n",
              "  </thead>\n",
              "  <tbody>\n",
              "    <tr>\n",
              "      <th>0</th>\n",
              "      <td>Braund, Mr. Owen Harris</td>\n",
              "      <td>22</td>\n",
              "      <td>male</td>\n",
              "    </tr>\n",
              "    <tr>\n",
              "      <th>1</th>\n",
              "      <td>Allen, Mr. William Henry</td>\n",
              "      <td>35</td>\n",
              "      <td>male</td>\n",
              "    </tr>\n",
              "    <tr>\n",
              "      <th>2</th>\n",
              "      <td>Bonnell, Miss. Elizabeth</td>\n",
              "      <td>58</td>\n",
              "      <td>female</td>\n",
              "    </tr>\n",
              "  </tbody>\n",
              "</table>\n",
              "</div>"
            ],
            "text/plain": [
              "                       Name  Age     Sex\n",
              "0   Braund, Mr. Owen Harris   22    male\n",
              "1  Allen, Mr. William Henry   35    male\n",
              "2  Bonnell, Miss. Elizabeth   58  female"
            ]
          },
          "metadata": {
            "tags": []
          },
          "execution_count": 191
        }
      ]
    },
    {
      "cell_type": "markdown",
      "metadata": {
        "id": "7Kl7JzX-RVzh"
      },
      "source": [
        "## Update lezione 27-11-2020\n",
        "\n",
        "### TODO:\n",
        "\n",
        "*  Conessione a drive da colab\n",
        "* Array - Lista - Classe\n",
        "* Pandas\n"
      ]
    },
    {
      "cell_type": "markdown",
      "metadata": {
        "id": "5q8Ro_37GgIT"
      },
      "source": [
        "# Titolo\n",
        "## Sottottilo\n",
        "fdsfds\n",
        "fdsf\n",
        "## Sottottilo\n",
        "1. [fdsfds](http://chromedriver.chromium.org/downloads?tmpl=%2Fsystem%2Fapp%2Ftemplates%2Fprint%2F&showPrintDialog=1)\n",
        "2. fdsf\n",
        "\n",
        "### Sottottilo\n",
        "\n",
        "\n",
        "kfjdlskfds\n",
        "\n",
        "fds"
      ]
    },
    {
      "cell_type": "markdown",
      "metadata": {
        "id": "temGu4d3Jr0-"
      },
      "source": [
        "# Introduzione a oggetti di python\n"
      ]
    },
    {
      "cell_type": "markdown",
      "metadata": {
        "id": "mOmA8dHuJxC-"
      },
      "source": [
        "## Liste"
      ]
    },
    {
      "cell_type": "markdown",
      "metadata": {
        "id": "tyWQCs1bKHql"
      },
      "source": [
        "1. Dimensione fissa\n",
        "2. Contenere diversi tipi (int,float,string,classe, lista)\n",
        "3. Lista può essere ordinata\n",
        "4. Una lista ha una lunghezza ma non ha una shape (dimensione)"
      ]
    },
    {
      "cell_type": "markdown",
      "metadata": {
        "id": "VDkNuR4XSSLN"
      },
      "source": [
        ""
      ]
    },
    {
      "cell_type": "markdown",
      "metadata": {
        "id": "_tmnpTnJSRKh"
      },
      "source": [
        ""
      ]
    },
    {
      "cell_type": "code",
      "metadata": {
        "id": "pT_95uIU7Xon",
        "colab": {
          "base_uri": "https://localhost:8080/",
          "height": 161
        },
        "outputId": "c5a6bccb-af33-435b-c439-218897a8ddde"
      },
      "source": [
        "import numpy as np\n",
        "\n",
        "a = [1,2,3,4]\n",
        "#a = [\"jk\", 2,    5.0,    [3,4,[\"jkj\",\"2\",45]],  np.array([3,5])]\n",
        "#print(type(a))\n",
        "#a[3][2][0]\n",
        "\n",
        "# lunghezza di una lista\n",
        "print(\"Lunghezza lista a: \", len(a))\n",
        "# Per i che va 0 a 3 (3-1)\n",
        "#for i in range(0,len(a)):\n",
        "#  print(a[i])\n",
        "\n",
        "# per ogni elemento/valore contenuto nella lista a\n",
        "#for el in a:\n",
        "#  print(el+5)\n",
        "\n",
        "# Aggiungi a tutti gli elementi della lista a +5 e ritornami una lista nuova\n",
        "\n",
        "# Risultato\n",
        "\n",
        "# Array\n",
        "a = list(np.array(a, dtype=np.int64) * 5)\n",
        "display(a)\n",
        "\n",
        "# --------\n",
        "l = []\n",
        "a = [1,2,3,4,5]\n",
        "for el in a:\n",
        "  l.append(el+5)\n",
        "\n",
        "# --------\n",
        "l = [el+5 for el in a]\n",
        "display(l)\n",
        "\n",
        "# ------\n",
        "a = [1,0,2,3,4]\n",
        "for kappa in range(0,len(a)):\n",
        "#for kappa in a:\n",
        "  print(kappa)\n",
        "  #a[i] = a[i] + 5\n",
        "\n"
      ],
      "execution_count": 43,
      "outputs": [
        {
          "output_type": "stream",
          "text": [
            "Lunghezza lista a:  4\n"
          ],
          "name": "stdout"
        },
        {
          "output_type": "display_data",
          "data": {
            "text/plain": [
              "[5, 10, 15, 20]"
            ]
          },
          "metadata": {
            "tags": []
          }
        },
        {
          "output_type": "display_data",
          "data": {
            "text/plain": [
              "[6, 7, 8, 9, 10]"
            ]
          },
          "metadata": {
            "tags": []
          }
        },
        {
          "output_type": "stream",
          "text": [
            "0\n",
            "1\n",
            "2\n",
            "3\n",
            "4\n"
          ],
          "name": "stdout"
        }
      ]
    },
    {
      "cell_type": "code",
      "metadata": {
        "colab": {
          "base_uri": "https://localhost:8080/"
        },
        "id": "iYCjU7atJ9pn",
        "outputId": "7f3e69e7-70d1-4962-e95c-13f2ca383309"
      },
      "source": [
        "# ----- Ordinare una lista\n",
        "a = [\"c\",\"b\", \"m\"]\n",
        "a = [1,4,7,3]\n",
        "a.sort() # lista ordianta\n",
        "a.sort(reverse=True) # lista al contrario\n",
        "a"
      ],
      "execution_count": 51,
      "outputs": [
        {
          "output_type": "execute_result",
          "data": {
            "text/plain": [
              "[7, 4, 3, 1]"
            ]
          },
          "metadata": {
            "tags": []
          },
          "execution_count": 51
        }
      ]
    },
    {
      "cell_type": "markdown",
      "metadata": {
        "id": "c9ds3X5Ng8s4"
      },
      "source": [
        "## Numpy Array"
      ]
    },
    {
      "cell_type": "code",
      "metadata": {
        "colab": {
          "base_uri": "https://localhost:8080/"
        },
        "id": "Q_wLaIoARaWS",
        "outputId": "6660efad-22c3-4fe4-d9d6-a240c1cfe257"
      },
      "source": [
        "# agli array si accede solo tramite indici e la dimensione è fissa\n",
        "# la decido alla creazioni\n",
        "a = np.array([ [4.5,6,7,8],[4.5,6,7,8] ]) # matrice 2x4\n",
        "print(a.shape)\n",
        "a[0][1]"
      ],
      "execution_count": 60,
      "outputs": [
        {
          "output_type": "stream",
          "text": [
            "(2, 4)\n"
          ],
          "name": "stdout"
        },
        {
          "output_type": "execute_result",
          "data": {
            "text/plain": [
              "6.0"
            ]
          },
          "metadata": {
            "tags": []
          },
          "execution_count": 60
        }
      ]
    },
    {
      "cell_type": "code",
      "metadata": {
        "colab": {
          "base_uri": "https://localhost:8080/"
        },
        "id": "p0t4KDeySmGc",
        "outputId": "30a2a05d-92f8-47b6-b4cb-0f968c9dcab8"
      },
      "source": [
        "#a = list(np.array([5,6,7]))\n",
        "#5   6    7\n",
        "#78 658  586\n",
        "# Gli multiwise moltiplation\n",
        "m = np.power(np.array([5,6,7]),3) * (np.array([5,6,7])+3)\n",
        "m = list(m)\n",
        "m.append(5)\n",
        "m"
      ],
      "execution_count": 87,
      "outputs": [
        {
          "output_type": "execute_result",
          "data": {
            "text/plain": [
              "[1000, 1944, 3430, 5]"
            ]
          },
          "metadata": {
            "tags": []
          },
          "execution_count": 87
        }
      ]
    },
    {
      "cell_type": "code",
      "metadata": {
        "colab": {
          "base_uri": "https://localhost:8080/"
        },
        "id": "nw0hbspRSLQc",
        "outputId": "c38d896b-0a50-4f5f-eb33-f935b145d27c"
      },
      "source": [
        "a = [1,4,5]\n",
        "b = [3,4,5]\n",
        "# Prodotto scalare 1*3 + 4*4 + 5*5\n",
        "test = 1*3 +4*4 +5*5\n",
        "#print(np.dot(a,b))\n",
        "np.dot(a,b)"
      ],
      "execution_count": 95,
      "outputs": [
        {
          "output_type": "execute_result",
          "data": {
            "text/plain": [
              "44"
            ]
          },
          "metadata": {
            "tags": []
          },
          "execution_count": 95
        }
      ]
    },
    {
      "cell_type": "code",
      "metadata": {
        "colab": {
          "base_uri": "https://localhost:8080/"
        },
        "id": "LfiY0qLcWA7b",
        "outputId": "a3d8e08e-c8eb-42f1-d713-9098b90121a7"
      },
      "source": [
        "#  3 4 5\n",
        "#  5 6 7\n",
        "table = np.array([ [[3,4,5], [5,6,7]], [[3,4,5], [5,6,7]] , [[3,4,5], [5,6,7]] ])\n",
        "table.shape\n"
      ],
      "execution_count": 102,
      "outputs": [
        {
          "output_type": "execute_result",
          "data": {
            "text/plain": [
              "(3, 2, 3)"
            ]
          },
          "metadata": {
            "tags": []
          },
          "execution_count": 102
        }
      ]
    },
    {
      "cell_type": "code",
      "metadata": {
        "colab": {
          "base_uri": "https://localhost:8080/"
        },
        "id": "k-MUPdjFW1Z4",
        "outputId": "cfa89fdc-486d-4170-ff14-4c7cc360bab0"
      },
      "source": [
        "x = np.array([5,8,9,10])\n",
        "y = np.array([15,65,56,50])\n",
        "z = np.array([50,854,95,100])\n",
        "v = np.array([[x],[y],[z]])\n",
        "v.shape\n",
        "\n",
        "#1980x720 HD\n",
        "#640x480 --> VGA --> 0-255 --> r (0-255) - g (0-255) -b (0-255)\n",
        "# [ 0   25  75 \n",
        "#    0   36  65\n",
        "#   12 215 255    ]\n",
        "#(3,640,480,3)\n",
        "#(3,640,3,480)\n",
        "#(3,3,640,480)\n",
        "#a[0,0:640,0:480,0]\n"
      ],
      "execution_count": 106,
      "outputs": [
        {
          "output_type": "execute_result",
          "data": {
            "text/plain": [
              "(3, 1, 4)"
            ]
          },
          "metadata": {
            "tags": []
          },
          "execution_count": 106
        }
      ]
    },
    {
      "cell_type": "code",
      "metadata": {
        "id": "x7HODEbvXpIP"
      },
      "source": [
        "# Sensori mandano dati cloud --- Tu ti fai un proghramm che parla con il plc (c#,c++, python)\n",
        "# Mqtt / Websocket\n",
        "# Archiviazione dei dati Database Realtime influxdb / 1 volte al secondo -- Mysql -- Postrgress\n",
        "# Dashboard che prende i dati dal tabase\n",
        "# Graphana influxdb -- facile (opensoruce) \n",
        "# #--- Elastic search -- difficile\n",
        "# PowerBi facile microsoft\n",
        "# timesiries anomaly detection <-- Dani"
      ],
      "execution_count": null,
      "outputs": []
    },
    {
      "cell_type": "code",
      "metadata": {
        "colab": {
          "base_uri": "https://localhost:8080/"
        },
        "id": "vyprZVLHd_Kv",
        "outputId": "224b2131-2fab-4804-bbc2-8d09929a4857"
      },
      "source": [
        "#a = np.ones((3,6))*5\n",
        "#a = np.zeros((3,6))\n",
        "a = np.array([[4,5,6]])\n",
        "b = np.array([[6,8,9]])\n",
        "m = np.concatenate((a,b),axis=0)  # verticale\n",
        "print(m)\n",
        "m.reshape(-1)\n",
        "#m = np.concatenate((a,b),axis=1) # orizzontale\n",
        "#print(m.shape)\n",
        "#m"
      ],
      "execution_count": 133,
      "outputs": [
        {
          "output_type": "stream",
          "text": [
            "[[4 5 6]\n",
            " [6 8 9]]\n"
          ],
          "name": "stdout"
        },
        {
          "output_type": "execute_result",
          "data": {
            "text/plain": [
              "array([4, 5, 6, 6, 8, 9])"
            ]
          },
          "metadata": {
            "tags": []
          },
          "execution_count": 133
        }
      ]
    },
    {
      "cell_type": "code",
      "metadata": {
        "colab": {
          "base_uri": "https://localhost:8080/"
        },
        "id": "ECssm3zeeCXA",
        "outputId": "8f27fd00-4f32-471e-9ef7-e7815911154a"
      },
      "source": [
        "a = np.array([4,5,6]) # 1x3\n",
        "print(a)\n",
        "a = a.reshape(3,1)\n",
        "print(a)\n",
        "a.shape"
      ],
      "execution_count": 130,
      "outputs": [
        {
          "output_type": "stream",
          "text": [
            "[4 5 6]\n",
            "[[4]\n",
            " [5]\n",
            " [6]]\n"
          ],
          "name": "stdout"
        },
        {
          "output_type": "execute_result",
          "data": {
            "text/plain": [
              "(3, 1)"
            ]
          },
          "metadata": {
            "tags": []
          },
          "execution_count": 130
        }
      ]
    },
    {
      "cell_type": "markdown",
      "metadata": {
        "id": "IKgid0Wyg_qO"
      },
      "source": [
        "## Esercizio (Dizionari)"
      ]
    },
    {
      "cell_type": "code",
      "metadata": {
        "colab": {
          "base_uri": "https://localhost:8080/",
          "height": 165
        },
        "id": "HbachrLNhOVh",
        "outputId": "6276b08f-0b52-4652-a2fd-1b1ddb9572f7"
      },
      "source": [
        "import pandas as pd\n",
        "url =\"https://raw.githubusercontent.com/pcm-dpc/COVID-19/master/dati-andamento-nazionale/dpc-covid19-ita-andamento-nazionale.csv\"\n",
        "df = pd.read_csv(url)\n",
        "#df.head(2) # fammi vedere i primi\n",
        "#df.tail(2) # fammi vedere gli ultimi"
      ],
      "execution_count": 141,
      "outputs": [
        {
          "output_type": "execute_result",
          "data": {
            "text/html": [
              "<div>\n",
              "<style scoped>\n",
              "    .dataframe tbody tr th:only-of-type {\n",
              "        vertical-align: middle;\n",
              "    }\n",
              "\n",
              "    .dataframe tbody tr th {\n",
              "        vertical-align: top;\n",
              "    }\n",
              "\n",
              "    .dataframe thead th {\n",
              "        text-align: right;\n",
              "    }\n",
              "</style>\n",
              "<table border=\"1\" class=\"dataframe\">\n",
              "  <thead>\n",
              "    <tr style=\"text-align: right;\">\n",
              "      <th></th>\n",
              "      <th>data</th>\n",
              "      <th>stato</th>\n",
              "      <th>ricoverati_con_sintomi</th>\n",
              "      <th>terapia_intensiva</th>\n",
              "      <th>totale_ospedalizzati</th>\n",
              "      <th>isolamento_domiciliare</th>\n",
              "      <th>totale_positivi</th>\n",
              "      <th>variazione_totale_positivi</th>\n",
              "      <th>nuovi_positivi</th>\n",
              "      <th>dimessi_guariti</th>\n",
              "      <th>deceduti</th>\n",
              "      <th>casi_da_sospetto_diagnostico</th>\n",
              "      <th>casi_da_screening</th>\n",
              "      <th>totale_casi</th>\n",
              "      <th>tamponi</th>\n",
              "      <th>casi_testati</th>\n",
              "      <th>note</th>\n",
              "    </tr>\n",
              "  </thead>\n",
              "  <tbody>\n",
              "    <tr>\n",
              "      <th>279</th>\n",
              "      <td>2020-11-29T17:00:00</td>\n",
              "      <td>ITA</td>\n",
              "      <td>32879</td>\n",
              "      <td>3753</td>\n",
              "      <td>36632</td>\n",
              "      <td>759139</td>\n",
              "      <td>795771</td>\n",
              "      <td>6463</td>\n",
              "      <td>20648</td>\n",
              "      <td>734503</td>\n",
              "      <td>54904</td>\n",
              "      <td>958832.0</td>\n",
              "      <td>626346.0</td>\n",
              "      <td>1585178</td>\n",
              "      <td>21814575</td>\n",
              "      <td>12922382.0</td>\n",
              "      <td>NaN</td>\n",
              "    </tr>\n",
              "    <tr>\n",
              "      <th>280</th>\n",
              "      <td>2020-11-30T17:00:00</td>\n",
              "      <td>ITA</td>\n",
              "      <td>33187</td>\n",
              "      <td>3744</td>\n",
              "      <td>36931</td>\n",
              "      <td>751540</td>\n",
              "      <td>788471</td>\n",
              "      <td>-7300</td>\n",
              "      <td>16377</td>\n",
              "      <td>757507</td>\n",
              "      <td>55576</td>\n",
              "      <td>966577.0</td>\n",
              "      <td>634977.0</td>\n",
              "      <td>1601554</td>\n",
              "      <td>21945099</td>\n",
              "      <td>12986634.0</td>\n",
              "      <td>NaN</td>\n",
              "    </tr>\n",
              "  </tbody>\n",
              "</table>\n",
              "</div>"
            ],
            "text/plain": [
              "                    data stato  ...  casi_testati  note\n",
              "279  2020-11-29T17:00:00   ITA  ...    12922382.0   NaN\n",
              "280  2020-11-30T17:00:00   ITA  ...    12986634.0   NaN\n",
              "\n",
              "[2 rows x 17 columns]"
            ]
          },
          "metadata": {
            "tags": []
          },
          "execution_count": 141
        }
      ]
    },
    {
      "cell_type": "code",
      "metadata": {
        "colab": {
          "base_uri": "https://localhost:8080/"
        },
        "id": "70vsZFU-jELX",
        "outputId": "2592b105-bd83-493d-f897-09220804637c"
      },
      "source": [
        "nomi_delle_colonne = list(df.keys())\n",
        "df.values.shape"
      ],
      "execution_count": 153,
      "outputs": [
        {
          "output_type": "execute_result",
          "data": {
            "text/plain": [
              "(281, 17)"
            ]
          },
          "metadata": {
            "tags": []
          },
          "execution_count": 153
        }
      ]
    },
    {
      "cell_type": "code",
      "metadata": {
        "colab": {
          "base_uri": "https://localhost:8080/"
        },
        "id": "6ZRF3A2Gj06r",
        "outputId": "14d5a191-b3b6-4d87-ec66-dcb6d62c5be8"
      },
      "source": [
        "df.values.shape"
      ],
      "execution_count": 162,
      "outputs": [
        {
          "output_type": "execute_result",
          "data": {
            "text/plain": [
              "(281, 17)"
            ]
          },
          "metadata": {
            "tags": []
          },
          "execution_count": 162
        }
      ]
    },
    {
      "cell_type": "code",
      "metadata": {
        "colab": {
          "base_uri": "https://localhost:8080/",
          "height": 159
        },
        "id": "ipcEeSlxhWZM",
        "outputId": "ec9df2e2-9a15-4098-94e5-1719b6b16953"
      },
      "source": [
        "a = {\n",
        "    \"nome\" : np.array([1,3,5]),\n",
        "    \"Cognomi\" : np.array([8,9,165])\n",
        "}\n",
        "mini_df = pd.DataFrame(a)\n",
        "display(mini_df)\n",
        "#print(mini_df.shape)\n",
        "mini_df.values[0:3,1]\n",
        "#print(\"Nomi delle colonne: \", list(a.keys()))\n",
        "#m = np.array(a.values())\n",
        "#m\n",
        "\n",
        "mini_df[\"Cognomi\"].values[1:2] # prendi da 1 a 2 dove 2 è escluso\n",
        "mini_df[\"Cognomi\"].values[1]\n",
        "mini_df[\"Cognomi\"].values[[0,2]]\n",
        "mini_df[\"Cognomi\"].values[-1]\n",
        "mini_df[\"Cognomi\"].values[-2:-1]\n",
        "mini_df[\"Cognomi\"].values[0:] # da zero all'ultimo\n",
        "mini_df[\"Cognomi\"].values[0:-2] # da primo 0 al penultimo"
      ],
      "execution_count": 195,
      "outputs": [
        {
          "output_type": "display_data",
          "data": {
            "text/html": [
              "<div>\n",
              "<style scoped>\n",
              "    .dataframe tbody tr th:only-of-type {\n",
              "        vertical-align: middle;\n",
              "    }\n",
              "\n",
              "    .dataframe tbody tr th {\n",
              "        vertical-align: top;\n",
              "    }\n",
              "\n",
              "    .dataframe thead th {\n",
              "        text-align: right;\n",
              "    }\n",
              "</style>\n",
              "<table border=\"1\" class=\"dataframe\">\n",
              "  <thead>\n",
              "    <tr style=\"text-align: right;\">\n",
              "      <th></th>\n",
              "      <th>nome</th>\n",
              "      <th>Cognomi</th>\n",
              "    </tr>\n",
              "  </thead>\n",
              "  <tbody>\n",
              "    <tr>\n",
              "      <th>0</th>\n",
              "      <td>1</td>\n",
              "      <td>8</td>\n",
              "    </tr>\n",
              "    <tr>\n",
              "      <th>1</th>\n",
              "      <td>3</td>\n",
              "      <td>9</td>\n",
              "    </tr>\n",
              "    <tr>\n",
              "      <th>2</th>\n",
              "      <td>5</td>\n",
              "      <td>165</td>\n",
              "    </tr>\n",
              "  </tbody>\n",
              "</table>\n",
              "</div>"
            ],
            "text/plain": [
              "   nome  Cognomi\n",
              "0     1        8\n",
              "1     3        9\n",
              "2     5      165"
            ]
          },
          "metadata": {
            "tags": []
          }
        },
        {
          "output_type": "execute_result",
          "data": {
            "text/plain": [
              "array([8])"
            ]
          },
          "metadata": {
            "tags": []
          },
          "execution_count": 195
        }
      ]
    },
    {
      "cell_type": "markdown",
      "metadata": {
        "id": "7qtEYe36ms1i"
      },
      "source": [
        "## Esercizio  \n",
        "\n",
        "> Calcolare l'incremento giornaliero della terapia intensiva\n"
      ]
    },
    {
      "cell_type": "code",
      "metadata": {
        "colab": {
          "base_uri": "https://localhost:8080/",
          "height": 471
        },
        "id": "4OsGqP2bjivv",
        "outputId": "f0d2a07c-64f0-486e-c6eb-e14d3d077340"
      },
      "source": [
        "import pandas as pd\n",
        "import numpy as np\n",
        "url =\"https://raw.githubusercontent.com/pcm-dpc/COVID-19/master/dati-andamento-nazionale/dpc-covid19-ita-andamento-nazionale.csv\"\n",
        "df = pd.read_csv(url)\n",
        "# L'ultima riga è la data di oggi\n",
        "# La penultima riga è la data di ieri\n",
        "display(df.tail(2)) # 3753 - 3744 = 9\n",
        "#df.values\n",
        "list(df.keys())"
      ],
      "execution_count": 231,
      "outputs": [
        {
          "output_type": "display_data",
          "data": {
            "text/html": [
              "<div>\n",
              "<style scoped>\n",
              "    .dataframe tbody tr th:only-of-type {\n",
              "        vertical-align: middle;\n",
              "    }\n",
              "\n",
              "    .dataframe tbody tr th {\n",
              "        vertical-align: top;\n",
              "    }\n",
              "\n",
              "    .dataframe thead th {\n",
              "        text-align: right;\n",
              "    }\n",
              "</style>\n",
              "<table border=\"1\" class=\"dataframe\">\n",
              "  <thead>\n",
              "    <tr style=\"text-align: right;\">\n",
              "      <th></th>\n",
              "      <th>data</th>\n",
              "      <th>stato</th>\n",
              "      <th>ricoverati_con_sintomi</th>\n",
              "      <th>terapia_intensiva</th>\n",
              "      <th>totale_ospedalizzati</th>\n",
              "      <th>isolamento_domiciliare</th>\n",
              "      <th>totale_positivi</th>\n",
              "      <th>variazione_totale_positivi</th>\n",
              "      <th>nuovi_positivi</th>\n",
              "      <th>dimessi_guariti</th>\n",
              "      <th>deceduti</th>\n",
              "      <th>casi_da_sospetto_diagnostico</th>\n",
              "      <th>casi_da_screening</th>\n",
              "      <th>totale_casi</th>\n",
              "      <th>tamponi</th>\n",
              "      <th>casi_testati</th>\n",
              "      <th>note</th>\n",
              "    </tr>\n",
              "  </thead>\n",
              "  <tbody>\n",
              "    <tr>\n",
              "      <th>279</th>\n",
              "      <td>2020-11-29T17:00:00</td>\n",
              "      <td>ITA</td>\n",
              "      <td>32879</td>\n",
              "      <td>3753</td>\n",
              "      <td>36632</td>\n",
              "      <td>759139</td>\n",
              "      <td>795771</td>\n",
              "      <td>6463</td>\n",
              "      <td>20648</td>\n",
              "      <td>734503</td>\n",
              "      <td>54904</td>\n",
              "      <td>958832.0</td>\n",
              "      <td>626346.0</td>\n",
              "      <td>1585178</td>\n",
              "      <td>21814575</td>\n",
              "      <td>12922382.0</td>\n",
              "      <td>NaN</td>\n",
              "    </tr>\n",
              "    <tr>\n",
              "      <th>280</th>\n",
              "      <td>2020-11-30T17:00:00</td>\n",
              "      <td>ITA</td>\n",
              "      <td>33187</td>\n",
              "      <td>3744</td>\n",
              "      <td>36931</td>\n",
              "      <td>751540</td>\n",
              "      <td>788471</td>\n",
              "      <td>-7300</td>\n",
              "      <td>16377</td>\n",
              "      <td>757507</td>\n",
              "      <td>55576</td>\n",
              "      <td>966577.0</td>\n",
              "      <td>634977.0</td>\n",
              "      <td>1601554</td>\n",
              "      <td>21945099</td>\n",
              "      <td>12986634.0</td>\n",
              "      <td>NaN</td>\n",
              "    </tr>\n",
              "  </tbody>\n",
              "</table>\n",
              "</div>"
            ],
            "text/plain": [
              "                    data stato  ...  casi_testati  note\n",
              "279  2020-11-29T17:00:00   ITA  ...    12922382.0   NaN\n",
              "280  2020-11-30T17:00:00   ITA  ...    12986634.0   NaN\n",
              "\n",
              "[2 rows x 17 columns]"
            ]
          },
          "metadata": {
            "tags": []
          }
        },
        {
          "output_type": "execute_result",
          "data": {
            "text/plain": [
              "['data',\n",
              " 'stato',\n",
              " 'ricoverati_con_sintomi',\n",
              " 'terapia_intensiva',\n",
              " 'totale_ospedalizzati',\n",
              " 'isolamento_domiciliare',\n",
              " 'totale_positivi',\n",
              " 'variazione_totale_positivi',\n",
              " 'nuovi_positivi',\n",
              " 'dimessi_guariti',\n",
              " 'deceduti',\n",
              " 'casi_da_sospetto_diagnostico',\n",
              " 'casi_da_screening',\n",
              " 'totale_casi',\n",
              " 'tamponi',\n",
              " 'casi_testati',\n",
              " 'note']"
            ]
          },
          "metadata": {
            "tags": []
          },
          "execution_count": 231
        }
      ]
    },
    {
      "cell_type": "code",
      "metadata": {
        "colab": {
          "base_uri": "https://localhost:8080/"
        },
        "id": "JbdYadwJoC6_",
        "outputId": "8a27ee1a-cd31-473b-bf77-cdea9f4d5c9c"
      },
      "source": [
        "df['terapia_intensiva'].tail(2).values[0]-df['terapia_intensiva'].tail(2).values[1] "
      ],
      "execution_count": 199,
      "outputs": [
        {
          "output_type": "execute_result",
          "data": {
            "text/plain": [
              "9"
            ]
          },
          "metadata": {
            "tags": []
          },
          "execution_count": 199
        }
      ]
    },
    {
      "cell_type": "code",
      "metadata": {
        "colab": {
          "base_uri": "https://localhost:8080/"
        },
        "id": "bho48zu7m9p1",
        "outputId": "50d1c5e2-ca29-4df3-ba87-d2620157aba0"
      },
      "source": [
        "import pandas as pd\n",
        "def incremento(df,colonna):\n",
        "  incremento = df[colonna].values[-1] - df[colonna].values[-2]\n",
        "  return incremento\n",
        "\n",
        "url =\"https://raw.githubusercontent.com/pcm-dpc/COVID-19/master/dati-andamento-nazionale/dpc-covid19-ita-andamento-nazionale.csv\"\n",
        "df = pd.read_csv(url)\n",
        "result = incremento(df,[\"terapia_intensiva\",\"deceduti\",\"totale_casi\"])\n",
        "print(result)\n"
      ],
      "execution_count": 210,
      "outputs": [
        {
          "output_type": "stream",
          "text": [
            "-9\n"
          ],
          "name": "stdout"
        }
      ]
    },
    {
      "cell_type": "code",
      "metadata": {
        "colab": {
          "base_uri": "https://localhost:8080/"
        },
        "id": "5lnA8OWuohHZ",
        "outputId": "f92ce5c7-7bc1-4357-f2df-bfb0791535ac"
      },
      "source": [
        "TI2 = df.tail(2)[\"terapia_intensiva\"].values[1]-df.tail(2)[\"terapia_intensiva\"].values[0] \n",
        "TI2"
      ],
      "execution_count": 213,
      "outputs": [
        {
          "output_type": "execute_result",
          "data": {
            "text/plain": [
              "-9"
            ]
          },
          "metadata": {
            "tags": []
          },
          "execution_count": 213
        }
      ]
    },
    {
      "cell_type": "code",
      "metadata": {
        "colab": {
          "base_uri": "https://localhost:8080/"
        },
        "id": "NEq-Mr6Ro9Na",
        "outputId": "8fee088e-766c-43ec-91c5-d86b8fdc3cad"
      },
      "source": [
        "ti=df[\"terapia_intensiva\"]\n",
        "arr = ti.values\n",
        "l = arr.shape[0]\n",
        "ti[l-1]-ti[l-2] "
      ],
      "execution_count": 228,
      "outputs": [
        {
          "output_type": "stream",
          "text": [
            "281\n"
          ],
          "name": "stdout"
        },
        {
          "output_type": "execute_result",
          "data": {
            "text/plain": [
              "-9"
            ]
          },
          "metadata": {
            "tags": []
          },
          "execution_count": 228
        }
      ]
    },
    {
      "cell_type": "code",
      "metadata": {
        "colab": {
          "base_uri": "https://localhost:8080/"
        },
        "id": "S1nnRemnryTK",
        "outputId": "7a8593cf-e02b-4cfb-96d0-3487a7d8a282"
      },
      "source": [
        "a = np.array(df.tail(2)[\"terapia_intensiva\"])\n",
        "b = a[1]-a[0]  \n",
        "b"
      ],
      "execution_count": 230,
      "outputs": [
        {
          "output_type": "execute_result",
          "data": {
            "text/plain": [
              "-9"
            ]
          },
          "metadata": {
            "tags": []
          },
          "execution_count": 230
        }
      ]
    },
    {
      "cell_type": "code",
      "metadata": {
        "id": "JgCEyzPdpHuI"
      },
      "source": [
        "\"totale_casi\",\"totale_positivi\",\"deceduti\",\"dimessi_guariti\""
      ],
      "execution_count": null,
      "outputs": []
    },
    {
      "cell_type": "code",
      "metadata": {
        "colab": {
          "base_uri": "https://localhost:8080/"
        },
        "id": "kcPSH9MWt_El",
        "outputId": "fa5f2b8b-8018-469d-d5c3-dc4915991ff2"
      },
      "source": [
        "df.values.shape\n",
        "search = [\"totale_casi\",\"totale_positivi\",\"deceduti\",\"dimessi_guariti\"]\n",
        "df[search].values[-1]"
      ],
      "execution_count": 243,
      "outputs": [
        {
          "output_type": "execute_result",
          "data": {
            "text/plain": [
              "array([1601554,  788471,   55576,  757507])"
            ]
          },
          "metadata": {
            "tags": []
          },
          "execution_count": 243
        }
      ]
    },
    {
      "cell_type": "code",
      "metadata": {
        "colab": {
          "base_uri": "https://localhost:8080/"
        },
        "id": "CHLjP119u_-4",
        "outputId": "d9ede64e-6fc2-4a4a-e2f4-5e97efffec91"
      },
      "source": [
        "# Mi da il risultato della funziones\n",
        "# NO : function / void\n",
        "def nomeacaso(df, mialista=[\"terapia_intensiva\", \"deceduti\", \"totale_casi\"]):\n",
        "  listanuova = []\n",
        "  for el in mialista:\n",
        "    temp = df[el].values[-1]-df[el].values[-2]\n",
        "    listanuova.append(temp)\n",
        "  return mialista, listanuova # dammi indietro\n",
        "\n",
        "mialista, listanuova = nomeacaso(df)\n",
        "print(listanuova)"
      ],
      "execution_count": 258,
      "outputs": [
        {
          "output_type": "stream",
          "text": [
            "[-9, 672, 16376]\n"
          ],
          "name": "stdout"
        }
      ]
    },
    {
      "cell_type": "code",
      "metadata": {
        "colab": {
          "base_uri": "https://localhost:8080/"
        },
        "id": "F4qTWucnsm9C",
        "outputId": "dc3701ed-55d7-4b10-a083-b8d6e72174fe"
      },
      "source": [
        "import pandas as pd\n",
        "\n",
        "def incremento_versione2(df,lista_colonne):\n",
        "  l=[]\n",
        "  for elemento in lista_colonne:\n",
        "    incremento = df[elemento].values[-1] - df[elemento].values[-2]\n",
        "    l.append(incremento)\n",
        "  return incremento\n",
        "\n",
        "def get_data(df,lista_colonne):\n",
        "  incremento = df[lista_colonne].values[-1]-df[lista_colonne].values[-2]\n",
        "  oggi = df[lista_colonne].values[-1]\n",
        "  return list(oggi), list(incremento) \n",
        "\n",
        "\n",
        "url =\"https://raw.githubusercontent.com/pcm-dpc/COVID-19/master/dati-andamento-nazionale/dpc-covid19-ita-andamento-nazionale.csv\"\n",
        "df = pd.read_csv(url)\n",
        "result = incremento_versione2(df,[\"terapia_intensiva\", \"deceduti\", \"totale_casi\"])\n",
        "oggi, incremento = get_data(df,[\"terapia_intensiva\", \"deceduti\", \"totale_casi\"])\n",
        "print(oggi,incremento)"
      ],
      "execution_count": 260,
      "outputs": [
        {
          "output_type": "stream",
          "text": [
            "[3744, 55576, 1601554] [-9, 672, 16376]\n"
          ],
          "name": "stdout"
        }
      ]
    },
    {
      "cell_type": "code",
      "metadata": {
        "colab": {
          "base_uri": "https://localhost:8080/",
          "height": 351
        },
        "id": "iDFHtlAYsyC6",
        "outputId": "7c25ce4d-7dbc-4453-cd51-15bb799159bd"
      },
      "source": [
        "# Roberta\n",
        "def dftake(a, b, c):\n",
        "  print(a,b,type(c))\n",
        "  T = df.tail(a)[c].values[b+1]-df.tail(a)[c].values[b]\n",
        "  return T\n",
        "\n",
        "k= list(df.keys())\n",
        "k\n",
        "type(k[1])\n",
        "for el in k:\n",
        "  m = 2\n",
        "  n = 0\n",
        "  o = el\n",
        "  TI2 = dftake(m, n, o)\n"
      ],
      "execution_count": 267,
      "outputs": [
        {
          "output_type": "stream",
          "text": [
            "2 0 <class 'str'>\n"
          ],
          "name": "stdout"
        },
        {
          "output_type": "error",
          "ename": "TypeError",
          "evalue": "ignored",
          "traceback": [
            "\u001b[0;31m---------------------------------------------------------------------------\u001b[0m",
            "\u001b[0;31mTypeError\u001b[0m                                 Traceback (most recent call last)",
            "\u001b[0;32m<ipython-input-267-89f49b8fc5e3>\u001b[0m in \u001b[0;36m<module>\u001b[0;34m()\u001b[0m\n\u001b[1;32m     12\u001b[0m   \u001b[0mn\u001b[0m \u001b[0;34m=\u001b[0m \u001b[0;36m0\u001b[0m\u001b[0;34m\u001b[0m\u001b[0;34m\u001b[0m\u001b[0m\n\u001b[1;32m     13\u001b[0m   \u001b[0mo\u001b[0m \u001b[0;34m=\u001b[0m \u001b[0mel\u001b[0m\u001b[0;34m\u001b[0m\u001b[0;34m\u001b[0m\u001b[0m\n\u001b[0;32m---> 14\u001b[0;31m   \u001b[0mTI2\u001b[0m \u001b[0;34m=\u001b[0m \u001b[0mdftake\u001b[0m\u001b[0;34m(\u001b[0m\u001b[0mm\u001b[0m\u001b[0;34m,\u001b[0m \u001b[0mn\u001b[0m\u001b[0;34m,\u001b[0m \u001b[0mo\u001b[0m\u001b[0;34m)\u001b[0m\u001b[0;34m\u001b[0m\u001b[0;34m\u001b[0m\u001b[0m\n\u001b[0m",
            "\u001b[0;32m<ipython-input-267-89f49b8fc5e3>\u001b[0m in \u001b[0;36mdftake\u001b[0;34m(a, b, c)\u001b[0m\n\u001b[1;32m      2\u001b[0m \u001b[0;32mdef\u001b[0m \u001b[0mdftake\u001b[0m\u001b[0;34m(\u001b[0m\u001b[0ma\u001b[0m\u001b[0;34m,\u001b[0m \u001b[0mb\u001b[0m\u001b[0;34m,\u001b[0m \u001b[0mc\u001b[0m\u001b[0;34m)\u001b[0m\u001b[0;34m:\u001b[0m\u001b[0;34m\u001b[0m\u001b[0;34m\u001b[0m\u001b[0m\n\u001b[1;32m      3\u001b[0m   \u001b[0mprint\u001b[0m\u001b[0;34m(\u001b[0m\u001b[0ma\u001b[0m\u001b[0;34m,\u001b[0m\u001b[0mb\u001b[0m\u001b[0;34m,\u001b[0m\u001b[0mtype\u001b[0m\u001b[0;34m(\u001b[0m\u001b[0mc\u001b[0m\u001b[0;34m)\u001b[0m\u001b[0;34m)\u001b[0m\u001b[0;34m\u001b[0m\u001b[0;34m\u001b[0m\u001b[0m\n\u001b[0;32m----> 4\u001b[0;31m   \u001b[0mT\u001b[0m \u001b[0;34m=\u001b[0m \u001b[0mdf\u001b[0m\u001b[0;34m.\u001b[0m\u001b[0mtail\u001b[0m\u001b[0;34m(\u001b[0m\u001b[0ma\u001b[0m\u001b[0;34m)\u001b[0m\u001b[0;34m[\u001b[0m\u001b[0mc\u001b[0m\u001b[0;34m]\u001b[0m\u001b[0;34m.\u001b[0m\u001b[0mvalues\u001b[0m\u001b[0;34m[\u001b[0m\u001b[0mb\u001b[0m\u001b[0;34m+\u001b[0m\u001b[0;36m1\u001b[0m\u001b[0;34m]\u001b[0m\u001b[0;34m-\u001b[0m\u001b[0mdf\u001b[0m\u001b[0;34m.\u001b[0m\u001b[0mtail\u001b[0m\u001b[0;34m(\u001b[0m\u001b[0ma\u001b[0m\u001b[0;34m)\u001b[0m\u001b[0;34m[\u001b[0m\u001b[0mc\u001b[0m\u001b[0;34m]\u001b[0m\u001b[0;34m.\u001b[0m\u001b[0mvalues\u001b[0m\u001b[0;34m[\u001b[0m\u001b[0mb\u001b[0m\u001b[0;34m]\u001b[0m\u001b[0;34m\u001b[0m\u001b[0;34m\u001b[0m\u001b[0m\n\u001b[0m\u001b[1;32m      5\u001b[0m   \u001b[0;32mreturn\u001b[0m \u001b[0mT\u001b[0m\u001b[0;34m\u001b[0m\u001b[0;34m\u001b[0m\u001b[0m\n\u001b[1;32m      6\u001b[0m \u001b[0;34m\u001b[0m\u001b[0m\n",
            "\u001b[0;31mTypeError\u001b[0m: unsupported operand type(s) for -: 'str' and 'str'"
          ]
        }
      ]
    },
    {
      "cell_type": "code",
      "metadata": {
        "id": "T4U4arlpxD50"
      },
      "source": [
        "def calc_incremento_giornaliero(c,df): \n",
        "  a = np.array(df.tail(2)[c]) b = a[0]-a[1]\n",
        "  print( \"Incremento giornaliero %s \" ,b)) \n",
        "  #type(df.columns) calc_incremento_giornaliero('deceduti',df) "
      ],
      "execution_count": null,
      "outputs": []
    },
    {
      "cell_type": "code",
      "metadata": {
        "colab": {
          "base_uri": "https://localhost:8080/"
        },
        "id": "VEWr4UuGyVp9",
        "outputId": "f0baabb3-e432-44f8-eaa4-0fcce021584b"
      },
      "source": [
        "# Stringa\n",
        "a = \"ciao\"\n",
        "print(\"Ciao ciao mkjdlskdlk: \" + a)\n",
        "print(\"Ciao ciao mkjdlskdlk: %s\" % (a))\n"
      ],
      "execution_count": 271,
      "outputs": [
        {
          "output_type": "stream",
          "text": [
            "Ciao ciao mkjdlskdlk: ciao\n",
            "Ciao ciao mkjdlskdlk: ciao\n"
          ],
          "name": "stdout"
        }
      ]
    },
    {
      "cell_type": "code",
      "metadata": {
        "id": "oRSnL9MDybo8"
      },
      "source": [
        ""
      ],
      "execution_count": null,
      "outputs": []
    }
  ]
}
