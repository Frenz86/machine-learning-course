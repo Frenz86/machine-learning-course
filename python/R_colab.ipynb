{
  "nbformat": 4,
  "nbformat_minor": 0,
  "metadata": {
    "colab": {
      "provenance": []
    },
    "kernelspec": {
      "name": "ir",
      "display_name": "R"
    },
    "language_info": {
      "name": "R"
    }
  },
  "cells": [
    {
      "cell_type": "code",
      "metadata": {
        "id": "BkLaSUJZcBad",
        "colab": {
          "base_uri": "https://localhost:8080/"
        },
        "outputId": "75627d07-6054-4d88-d55d-52430b5d0261"
      },
      "source": [
        "install.packages(\"googledrive\")\n",
        "library(\"googledrive\")"
      ],
      "execution_count": null,
      "outputs": [
        {
          "output_type": "stream",
          "name": "stderr",
          "text": [
            "Installing package into ‘/usr/local/lib/R/site-library’\n",
            "(as ‘lib’ is unspecified)\n",
            "\n"
          ]
        }
      ]
    },
    {
      "cell_type": "code",
      "source": [
        "x <- \"Welcome to FrenzProgramming\"\n",
        "print(x)"
      ],
      "metadata": {
        "colab": {
          "base_uri": "https://localhost:8080/"
        },
        "id": "FSSKs7Fshnyw",
        "outputId": "34707332-b743-4e48-e4a8-361edbee8a45"
      },
      "execution_count": 1,
      "outputs": [
        {
          "output_type": "stream",
          "name": "stdout",
          "text": [
            "[1] \"Welcome to FrenzProgramming\"\n"
          ]
        }
      ]
    },
    {
      "cell_type": "code",
      "source": [
        "company <- \"FrenzProgramming\"\n",
        "\n",
        "# print string and variable together\n",
        "print(paste(\"Welcome to\", company))"
      ],
      "metadata": {
        "colab": {
          "base_uri": "https://localhost:8080/"
        },
        "id": "4KGXEmfBh3Q4",
        "outputId": "62a3884a-8ed9-477d-d461-98477980d0a9"
      },
      "execution_count": 2,
      "outputs": [
        {
          "output_type": "stream",
          "name": "stdout",
          "text": [
            "[1] \"Welcome to FrenzProgramming\"\n"
          ]
        }
      ]
    },
    {
      "cell_type": "code",
      "source": [
        "# sprintf() with integer variable\n",
        "myInteger <- 123\n",
        "sprintf(\"Integer Value: %d\", myInteger)\n",
        "\n",
        "# sprintf() with float variable\n",
        "myFloat <- 12.34\n",
        "sprintf(\"Float Value: %f\", myFloat)"
      ],
      "metadata": {
        "colab": {
          "base_uri": "https://localhost:8080/",
          "height": 52
        },
        "id": "WfbPCgN0h9go",
        "outputId": "92facc80-0fc1-4355-fea5-bbb0047db0d3"
      },
      "execution_count": 3,
      "outputs": [
        {
          "output_type": "display_data",
          "data": {
            "text/html": [
              "'Integer Value: 123'"
            ],
            "text/markdown": "'Integer Value: 123'",
            "text/latex": "'Integer Value: 123'",
            "text/plain": [
              "[1] \"Integer Value: 123\""
            ]
          },
          "metadata": {}
        },
        {
          "output_type": "display_data",
          "data": {
            "text/html": [
              "'Float Value: 12.340000'"
            ],
            "text/markdown": "'Float Value: 12.340000'",
            "text/latex": "'Float Value: 12.340000'",
            "text/plain": [
              "[1] \"Float Value: 12.340000\""
            ]
          },
          "metadata": {}
        }
      ]
    },
    {
      "cell_type": "code",
      "source": [
        "x <- 10\n",
        "y <- 20\n",
        "z <- x+y\n",
        "print(paste(\"Addition of two numbers is:\",z))"
      ],
      "metadata": {
        "id": "fFfOr8lh9xiK",
        "outputId": "35601e10-1922-4372-91f2-3044f29e8c09",
        "colab": {
          "base_uri": "https://localhost:8080/"
        }
      },
      "execution_count": 8,
      "outputs": [
        {
          "output_type": "stream",
          "name": "stdout",
          "text": [
            "[1] \"Addition of two numbers is: 30\"\n"
          ]
        }
      ]
    },
    {
      "cell_type": "code",
      "source": [
        "# decimal variable\n",
        "my_decimal <- 123.45\n",
        "print(class(my_decimal))\n",
        "\n",
        "# variable without decimal\n",
        "my_number <- 34\n",
        "print(class(my_number))"
      ],
      "metadata": {
        "colab": {
          "base_uri": "https://localhost:8080/"
        },
        "id": "AE77y2pniICC",
        "outputId": "4df47d7e-108c-4e0c-d5a2-cc44e176319d"
      },
      "execution_count": 9,
      "outputs": [
        {
          "output_type": "stream",
          "name": "stdout",
          "text": [
            "[1] \"numeric\"\n",
            "[1] \"numeric\"\n"
          ]
        }
      ]
    },
    {
      "cell_type": "code",
      "source": [
        "my_integer <- 123L\n",
        "\n",
        "# print the value of my_integer\n",
        "print(my_integer)\n",
        "\n",
        "# print the data type of my_integer\n",
        "print(class(my_integer))"
      ],
      "metadata": {
        "colab": {
          "base_uri": "https://localhost:8080/"
        },
        "id": "cQRFCBkJiTmC",
        "outputId": "ada20958-99db-437b-dc32-3a327a837349"
      },
      "execution_count": null,
      "outputs": [
        {
          "output_type": "stream",
          "name": "stdout",
          "text": [
            "[1] 123\n",
            "[1] \"integer\"\n"
          ]
        }
      ]
    },
    {
      "cell_type": "code",
      "source": [
        "# variable with only imaginary part\n",
        "z1 <- 5i\n",
        "print(z1)\n",
        "print(class(z1))\n",
        "\n",
        "# variable with both real and imaginary parts\n",
        "z2 <- 3 + 3i\n",
        "print(z2)\n",
        "print(class(z2))"
      ],
      "metadata": {
        "colab": {
          "base_uri": "https://localhost:8080/"
        },
        "id": "_XTfg42miY9i",
        "outputId": "903b5998-f8b9-4267-c230-ef0e27f77a05"
      },
      "execution_count": null,
      "outputs": [
        {
          "output_type": "stream",
          "name": "stdout",
          "text": [
            "[1] 0+5i\n",
            "[1] \"complex\"\n",
            "[1] 3+3i\n",
            "[1] \"complex\"\n"
          ]
        }
      ]
    },
    {
      "cell_type": "code",
      "source": [
        "# declare boolean\n",
        "x <- TRUE\n",
        "print(x)\n",
        "print(class(x))\n",
        "\n",
        "# declare boolean using single character\n",
        "y <- F\n",
        "print(y)\n",
        "print(class(y))"
      ],
      "metadata": {
        "colab": {
          "base_uri": "https://localhost:8080/"
        },
        "id": "iHhRengdicR2",
        "outputId": "d34ea601-af31-4153-ce92-bdc28d1dc8d9"
      },
      "execution_count": null,
      "outputs": [
        {
          "output_type": "stream",
          "name": "stdout",
          "text": [
            "[1] TRUE\n",
            "[1] \"logical\"\n",
            "[1] FALSE\n",
            "[1] \"logical\"\n"
          ]
        }
      ]
    },
    {
      "cell_type": "code",
      "source": [
        "x <- 10\n",
        "y <- 23\n",
        "z <- 12\n",
        "\n",
        "print(x<y & y>z)"
      ],
      "metadata": {
        "colab": {
          "base_uri": "https://localhost:8080/"
        },
        "id": "jOeoJ16ZigS-",
        "outputId": "a99550d1-6b27-4727-d656-18f301ea7d80"
      },
      "execution_count": null,
      "outputs": [
        {
          "output_type": "stream",
          "name": "stdout",
          "text": [
            "[1] TRUE\n"
          ]
        }
      ]
    },
    {
      "cell_type": "code",
      "source": [
        "x <- 3\n",
        "\n",
        "# check if x is greater than 0\n",
        "if (x > 0) {\n",
        "  print(\"The number is positive\")\n",
        "}\n",
        "\n",
        "print(\"Outside if statement\")"
      ],
      "metadata": {
        "colab": {
          "base_uri": "https://localhost:8080/"
        },
        "id": "EPJzZ90Oik5e",
        "outputId": "6598f87d-e12e-4d5a-f597-bc6526e2facb"
      },
      "execution_count": null,
      "outputs": [
        {
          "output_type": "stream",
          "name": "stdout",
          "text": [
            "[1] \"The number is positive\"\n",
            "[1] \"Outside if statement\"\n"
          ]
        }
      ]
    },
    {
      "cell_type": "code",
      "source": [
        "age <- 15\n",
        "\n",
        "# check if age is greater than 18\n",
        "if (age > 18) {\n",
        "  print(\"You are eligible to vote.\")\n",
        "} else {\n",
        "  print(\"You cannot vote.\")\n",
        "}"
      ],
      "metadata": {
        "id": "FS4SdHOkipW9",
        "outputId": "bccd9ca7-d825-41f8-c158-9ed928212ae6",
        "colab": {
          "base_uri": "https://localhost:8080/"
        }
      },
      "execution_count": 10,
      "outputs": [
        {
          "output_type": "stream",
          "name": "stdout",
          "text": [
            "[1] \"You cannot vote.\"\n"
          ]
        }
      ]
    },
    {
      "cell_type": "code",
      "source": [],
      "metadata": {
        "id": "Y-NZ24zxisLN"
      },
      "execution_count": null,
      "outputs": []
    }
  ]
}