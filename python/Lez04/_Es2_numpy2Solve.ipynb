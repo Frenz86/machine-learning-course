{
 "cells": [
  {
   "cell_type": "markdown",
   "metadata": {},
   "source": [
    "## 1 Concatenare due array di stringhe:\n"
   ]
  },
  {
   "cell_type": "code",
   "execution_count": 1,
   "metadata": {},
   "outputs": [
    {
     "name": "stdout",
     "output_type": "stream",
     "text": [
      "Array concatenato: ['hello' 'world' 'good' 'morning']\n"
     ]
    }
   ],
   "source": [
    "import numpy as np\n",
    "\n",
    "array1 = np.array([\"hello\", \"world\"])\n",
    "array2 = np.array([\"good\", \"morning\"])\n",
    "\n",
    "\n",
    "print(\"Array concatenato:\", concatenated_array)"
   ]
  },
  {
   "cell_type": "markdown",
   "metadata": {},
   "source": [
    "## 2 Trova la lunghezza di ciascuna stringa nell'array:"
   ]
  },
  {
   "cell_type": "code",
   "execution_count": 2,
   "metadata": {},
   "outputs": [
    {
     "name": "stdout",
     "output_type": "stream",
     "text": [
      "Lunghezza di ciascuna stringa: [5 6 4]\n"
     ]
    }
   ],
   "source": [
    "#vectorize\n",
    "import numpy as np\n",
    "\n",
    "array = np.array([\"apple\", \"banana\", \"kiwi\"])\n",
    "\n",
    "print(\"Lunghezza di ciascuna stringa:\", lengths)"
   ]
  },
  {
   "cell_type": "markdown",
   "metadata": {},
   "source": [
    "## 3 Convertire tutte le stringhe in maiuscolo:\n"
   ]
  },
  {
   "cell_type": "code",
   "execution_count": 3,
   "metadata": {},
   "outputs": [
    {
     "name": "stdout",
     "output_type": "stream",
     "text": [
      "Stringhe in maiuscolo: ['HELLO' 'WORLD']\n"
     ]
    }
   ],
   "source": [
    "#char\n",
    "import numpy as np\n",
    "\n",
    "array = np.array([\"hello\", \"world\"])\n",
    "\n",
    "print(\"Stringhe in maiuscolo:\", uppercase_array)"
   ]
  },
  {
   "cell_type": "markdown",
   "metadata": {},
   "source": [
    "## 4 Contare il numero totale di caratteri in tutto l'array:\n"
   ]
  },
  {
   "cell_type": "code",
   "execution_count": 4,
   "metadata": {},
   "outputs": [
    {
     "name": "stdout",
     "output_type": "stream",
     "text": [
      "Numero totale di caratteri: 15\n"
     ]
    }
   ],
   "source": [
    "import numpy as np\n",
    "\n",
    "array = np.array([\"apple\", \"banana\", \"kiwi\"])\n",
    "\n",
    "print(\"Numero totale di caratteri:\", total_characters)"
   ]
  },
  {
   "cell_type": "markdown",
   "metadata": {},
   "source": [
    "## 5 Trova l'indice della stringa più lunga:\n"
   ]
  },
  {
   "cell_type": "code",
   "execution_count": 5,
   "metadata": {},
   "outputs": [
    {
     "name": "stdout",
     "output_type": "stream",
     "text": [
      "Indice della stringa più lunga: 1\n"
     ]
    }
   ],
   "source": [
    "#argmax\n",
    "import numpy as np\n",
    "\n",
    "array = np.array([\"apple\", \"banana\", \"kiwi\"])\n",
    "\n",
    "print(\"Indice della stringa più lunga:\", index_longest_string)"
   ]
  },
  {
   "cell_type": "markdown",
   "metadata": {},
   "source": [
    "## 6 Verifica se ogni stringa inizia con una determinata sottostringa:\n"
   ]
  },
  {
   "cell_type": "code",
   "execution_count": 6,
   "metadata": {},
   "outputs": [
    {
     "name": "stdout",
     "output_type": "stream",
     "text": [
      "Inizia con 'a': [ True False False]\n"
     ]
    }
   ],
   "source": [
    "#char\n",
    "import numpy as np\n",
    "\n",
    "array = np.array([\"apple\", \"banana\", \"kiwi\"])\n",
    "\n",
    "print(\"Inizia con 'a':\", starts_with_a)"
   ]
  },
  {
   "cell_type": "markdown",
   "metadata": {},
   "source": [
    "## 7 Contare il numero di stringhe uniche:\n"
   ]
  },
  {
   "cell_type": "code",
   "execution_count": 7,
   "metadata": {},
   "outputs": [
    {
     "name": "stdout",
     "output_type": "stream",
     "text": [
      "Numero di stringhe uniche: 3\n"
     ]
    }
   ],
   "source": [
    "import numpy as np\n",
    "\n",
    "array = np.array([\"apple\", \"banana\", \"kiwi\", \"apple\"])\n",
    "\n",
    "print(\"Numero di stringhe uniche:\", unique_count)"
   ]
  },
  {
   "cell_type": "markdown",
   "metadata": {},
   "source": [
    "## 8 Unire tutte le stringhe in un'unica stringa:\n"
   ]
  },
  {
   "cell_type": "code",
   "execution_count": 8,
   "metadata": {},
   "outputs": [
    {
     "name": "stdout",
     "output_type": "stream",
     "text": [
      "Stringa risultante: ['hello Python' 'world Python']\n"
     ]
    }
   ],
   "source": [
    "#char\n",
    "import numpy as np\n",
    "\n",
    "array = np.array([\"hello\", \"world\"])\n",
    "joined_string = np.char.add(array, \" \")\n",
    "result = \n",
    "print(\"Stringa risultante:\", result)"
   ]
  },
  {
   "cell_type": "markdown",
   "metadata": {},
   "source": [
    "## 9 Verificare se una determinata sottostringa è presente in ogni stringa:\n"
   ]
  },
  {
   "cell_type": "code",
   "execution_count": 12,
   "metadata": {},
   "outputs": [
    {
     "name": "stdout",
     "output_type": "stream",
     "text": [
      "Contiene 'ki': [False False  True]\n"
     ]
    }
   ],
   "source": [
    "#list compr\n",
    "import numpy as np\n",
    "\n",
    "array = np.array([\"apple\", \"banana\", \"kiwi\"])\n",
    "\n",
    "print(\"Contiene 'ki':\", contains_ki)"
   ]
  },
  {
   "cell_type": "markdown",
   "metadata": {},
   "source": [
    "## 10 Sostituire una sottostringa con un'altra in tutte le stringhe:\n"
   ]
  },
  {
   "cell_type": "code",
   "execution_count": 11,
   "metadata": {},
   "outputs": [
    {
     "name": "stdout",
     "output_type": "stream",
     "text": [
      "Array con sostituzioni: ['Xpple' 'bXnXnX' 'kiwi']\n"
     ]
    }
   ],
   "source": [
    "#char\n",
    "import numpy as np\n",
    "\n",
    "array = np.array([\"apple\", \"banana\", \"kiwi\"])\n",
    "\n",
    "print(\"Array con sostituzioni:\", replaced_array)"
   ]
  },
  {
   "cell_type": "code",
   "execution_count": null,
   "metadata": {},
   "outputs": [],
   "source": []
  }
 ],
 "metadata": {
  "kernelspec": {
   "display_name": "Python 3",
   "language": "python",
   "name": "python3"
  },
  "language_info": {
   "codemirror_mode": {
    "name": "ipython",
    "version": 3
   },
   "file_extension": ".py",
   "mimetype": "text/x-python",
   "name": "python",
   "nbconvert_exporter": "python",
   "pygments_lexer": "ipython3",
   "version": "3.10.11"
  }
 },
 "nbformat": 4,
 "nbformat_minor": 2
}
